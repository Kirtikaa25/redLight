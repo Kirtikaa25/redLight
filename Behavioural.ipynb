{
  "nbformat": 4,
  "nbformat_minor": 0,
  "metadata": {
    "colab": {
      "provenance": [],
      "authorship_tag": "ABX9TyO4Xmg2faziFgXNwKIcawec",
      "include_colab_link": true
    },
    "kernelspec": {
      "name": "python3",
      "display_name": "Python 3"
    },
    "language_info": {
      "name": "python"
    }
  },
  "cells": [
    {
      "cell_type": "markdown",
      "metadata": {
        "id": "view-in-github",
        "colab_type": "text"
      },
      "source": [
        "<a href=\"https://colab.research.google.com/github/Kirtikaa25/redLight/blob/main/Behavioural.ipynb\" target=\"_parent\"><img src=\"https://colab.research.google.com/assets/colab-badge.svg\" alt=\"Open In Colab\"/></a>"
      ]
    },
    {
      "cell_type": "code",
      "source": [
        "# Load the dataset again (if needed)\n",
        "import pandas as pd\n",
        "\n",
        "file_path = \"/content/behavioral factors.xlsx\"\n",
        "df = pd.read_excel(file_path)\n",
        "\n",
        "# Standardize column names (remove spaces, special characters)\n",
        "df.columns = df.columns.str.strip().str.replace(\" \", \"_\").str.replace(\"?\", \"\").str.lower()\n",
        "\n",
        "# Print updated column names\n",
        "print(\"Updated column names:\", df.columns.tolist())\n",
        "\n"
      ],
      "metadata": {
        "colab": {
          "base_uri": "https://localhost:8080/"
        },
        "id": "fCk0Zh5QUvTB",
        "outputId": "ad55b9df-3a62-49ff-edd8-1a83edc853f9"
      },
      "execution_count": 9,
      "outputs": [
        {
          "output_type": "stream",
          "name": "stdout",
          "text": [
            "Updated column names: ['how_do_you_react_when_you_see_someone_running_a_red_light', 'how_many_hours_a_day_do_you_usually_drive', 'how_often_do_you_cross_during_a_red_light_', 'have_you_ever_crossed_the_street_during_a_red_light']\n"
          ]
        }
      ]
    },
    {
      "cell_type": "code",
      "source": [
        "# Rename the column to remove the extra underscore\n",
        "df.rename(columns={\"how_often_do_you_cross_during_a_red_light_\": \"how_often_do_you_cross_during_a_red_light\"}, inplace=True)\n",
        "\n",
        "# Print updated column names to confirm the fix\n",
        "print(\"Final column names:\", df.columns.tolist())\n"
      ],
      "metadata": {
        "colab": {
          "base_uri": "https://localhost:8080/"
        },
        "id": "p5x-4mlwVQ7n",
        "outputId": "0cc32943-1113-449f-b536-828efd9ed35f"
      },
      "execution_count": 11,
      "outputs": [
        {
          "output_type": "stream",
          "name": "stdout",
          "text": [
            "Final column names: ['how_do_you_react_when_you_see_someone_running_a_red_light', 'how_many_hours_a_day_do_you_usually_drive', 'how_often_do_you_cross_during_a_red_light', 'have_you_ever_crossed_the_street_during_a_red_light']\n"
          ]
        }
      ]
    },
    {
      "cell_type": "code",
      "source": [
        "# Convert dataset into long format\n",
        "long_data = df.melt(id_vars=[\"have_you_ever_crossed_the_street_during_a_red_light\"],\n",
        "                     var_name=\"Factor\",\n",
        "                     value_name=\"Value\")\n",
        "\n",
        "# Display unique values in Factor column to verify\n",
        "print(\"Unique values in Factor column:\", long_data[\"Factor\"].unique())\n"
      ],
      "metadata": {
        "colab": {
          "base_uri": "https://localhost:8080/"
        },
        "id": "7A0hSRCOVclc",
        "outputId": "efe46c4d-fda0-429a-d008-5221c84d6dcb"
      },
      "execution_count": 12,
      "outputs": [
        {
          "output_type": "stream",
          "name": "stdout",
          "text": [
            "Unique values in Factor column: ['how_do_you_react_when_you_see_someone_running_a_red_light'\n",
            " 'how_many_hours_a_day_do_you_usually_drive'\n",
            " 'how_often_do_you_cross_during_a_red_light']\n"
          ]
        }
      ]
    },
    {
      "cell_type": "code",
      "source": [
        "!pip install git+https://github.com/timothyb0912/pylogit.git\n"
      ],
      "metadata": {
        "colab": {
          "base_uri": "https://localhost:8080/"
        },
        "id": "deeumtSZVuXx",
        "outputId": "a4a35619-70c5-45af-d7ad-1e58327b4d82"
      },
      "execution_count": 14,
      "outputs": [
        {
          "output_type": "stream",
          "name": "stdout",
          "text": [
            "Collecting git+https://github.com/timothyb0912/pylogit.git\n",
            "  Cloning https://github.com/timothyb0912/pylogit.git to /tmp/pip-req-build-ddpt5xy7\n",
            "  Running command git clone --filter=blob:none --quiet https://github.com/timothyb0912/pylogit.git /tmp/pip-req-build-ddpt5xy7\n",
            "  Resolved https://github.com/timothyb0912/pylogit.git to commit cffc9c523b5368966ef2481c7dc30f0a5d296de8\n",
            "  Installing build dependencies ... \u001b[?25l\u001b[?25hdone\n",
            "  Getting requirements to build wheel ... \u001b[?25l\u001b[?25hdone\n",
            "  Preparing metadata (pyproject.toml) ... \u001b[?25l\u001b[?25hdone\n",
            "Requirement already satisfied: pandas>=0.16.2 in /usr/local/lib/python3.11/dist-packages (from pylogit==1.0.1) (2.2.2)\n",
            "Requirement already satisfied: numpy>=1.10.2 in /usr/local/lib/python3.11/dist-packages (from pylogit==1.0.1) (2.0.2)\n",
            "Requirement already satisfied: scipy>=0.16.1 in /usr/local/lib/python3.11/dist-packages (from pylogit==1.0.1) (1.14.1)\n",
            "Requirement already satisfied: future>=0.16 in /usr/local/lib/python3.11/dist-packages (from pylogit==1.0.1) (1.0.0)\n",
            "Requirement already satisfied: statsmodels>=0.6.1 in /usr/local/lib/python3.11/dist-packages (from pylogit==1.0.1) (0.14.4)\n",
            "Requirement already satisfied: tqdm>=4.15.0 in /usr/local/lib/python3.11/dist-packages (from pylogit==1.0.1) (4.67.1)\n",
            "Requirement already satisfied: python-dateutil>=2.8.2 in /usr/local/lib/python3.11/dist-packages (from pandas>=0.16.2->pylogit==1.0.1) (2.8.2)\n",
            "Requirement already satisfied: pytz>=2020.1 in /usr/local/lib/python3.11/dist-packages (from pandas>=0.16.2->pylogit==1.0.1) (2025.1)\n",
            "Requirement already satisfied: tzdata>=2022.7 in /usr/local/lib/python3.11/dist-packages (from pandas>=0.16.2->pylogit==1.0.1) (2025.1)\n",
            "Requirement already satisfied: patsy>=0.5.6 in /usr/local/lib/python3.11/dist-packages (from statsmodels>=0.6.1->pylogit==1.0.1) (1.0.1)\n",
            "Requirement already satisfied: packaging>=21.3 in /usr/local/lib/python3.11/dist-packages (from statsmodels>=0.6.1->pylogit==1.0.1) (24.2)\n",
            "Requirement already satisfied: six>=1.5 in /usr/local/lib/python3.11/dist-packages (from python-dateutil>=2.8.2->pandas>=0.16.2->pylogit==1.0.1) (1.17.0)\n",
            "Building wheels for collected packages: pylogit\n",
            "  Building wheel for pylogit (pyproject.toml) ... \u001b[?25l\u001b[?25hdone\n",
            "  Created wheel for pylogit: filename=pylogit-1.0.1-py3-none-any.whl size=151628 sha256=61d780acb869d31bc294c72a6853f4122ab59eca94d96e4555f7119cc7496930\n",
            "  Stored in directory: /tmp/pip-ephem-wheel-cache-sqfikvit/wheels/17/29/c1/85bf27d968572196d48cd711094805d741b1f98c89f94db2b4\n",
            "Successfully built pylogit\n",
            "Installing collected packages: pylogit\n",
            "Successfully installed pylogit-1.0.1\n"
          ]
        }
      ]
    },
    {
      "cell_type": "code",
      "source": [
        "!pip uninstall -y pylogit\n",
        "!pip install git+https://github.com/timothyb0912/pylogit.git\n",
        "\n",
        "# Fix the import issue in pylogit\n",
        "!sed -i 's/from collections import Iterable/from collections.abc import Iterable/' /usr/local/lib/python3.11/dist-packages/pylogit/choice_tools.py\n"
      ],
      "metadata": {
        "colab": {
          "base_uri": "https://localhost:8080/"
        },
        "id": "xLRCBKq4WHrR",
        "outputId": "67d8bfa6-dd4f-44f3-ccca-b26494b2e1a0"
      },
      "execution_count": 16,
      "outputs": [
        {
          "output_type": "stream",
          "name": "stdout",
          "text": [
            "Found existing installation: pylogit 1.0.1\n",
            "Uninstalling pylogit-1.0.1:\n",
            "  Successfully uninstalled pylogit-1.0.1\n",
            "Collecting git+https://github.com/timothyb0912/pylogit.git\n",
            "  Cloning https://github.com/timothyb0912/pylogit.git to /tmp/pip-req-build-h54en3_a\n",
            "  Running command git clone --filter=blob:none --quiet https://github.com/timothyb0912/pylogit.git /tmp/pip-req-build-h54en3_a\n",
            "  Resolved https://github.com/timothyb0912/pylogit.git to commit cffc9c523b5368966ef2481c7dc30f0a5d296de8\n",
            "  Installing build dependencies ... \u001b[?25l\u001b[?25hdone\n",
            "  Getting requirements to build wheel ... \u001b[?25l\u001b[?25hdone\n",
            "  Preparing metadata (pyproject.toml) ... \u001b[?25l\u001b[?25hdone\n",
            "Requirement already satisfied: pandas>=0.16.2 in /usr/local/lib/python3.11/dist-packages (from pylogit==1.0.1) (2.2.2)\n",
            "Requirement already satisfied: numpy>=1.10.2 in /usr/local/lib/python3.11/dist-packages (from pylogit==1.0.1) (2.0.2)\n",
            "Requirement already satisfied: scipy>=0.16.1 in /usr/local/lib/python3.11/dist-packages (from pylogit==1.0.1) (1.14.1)\n",
            "Requirement already satisfied: future>=0.16 in /usr/local/lib/python3.11/dist-packages (from pylogit==1.0.1) (1.0.0)\n",
            "Requirement already satisfied: statsmodels>=0.6.1 in /usr/local/lib/python3.11/dist-packages (from pylogit==1.0.1) (0.14.4)\n",
            "Requirement already satisfied: tqdm>=4.15.0 in /usr/local/lib/python3.11/dist-packages (from pylogit==1.0.1) (4.67.1)\n",
            "Requirement already satisfied: python-dateutil>=2.8.2 in /usr/local/lib/python3.11/dist-packages (from pandas>=0.16.2->pylogit==1.0.1) (2.8.2)\n",
            "Requirement already satisfied: pytz>=2020.1 in /usr/local/lib/python3.11/dist-packages (from pandas>=0.16.2->pylogit==1.0.1) (2025.1)\n",
            "Requirement already satisfied: tzdata>=2022.7 in /usr/local/lib/python3.11/dist-packages (from pandas>=0.16.2->pylogit==1.0.1) (2025.1)\n",
            "Requirement already satisfied: patsy>=0.5.6 in /usr/local/lib/python3.11/dist-packages (from statsmodels>=0.6.1->pylogit==1.0.1) (1.0.1)\n",
            "Requirement already satisfied: packaging>=21.3 in /usr/local/lib/python3.11/dist-packages (from statsmodels>=0.6.1->pylogit==1.0.1) (24.2)\n",
            "Requirement already satisfied: six>=1.5 in /usr/local/lib/python3.11/dist-packages (from python-dateutil>=2.8.2->pandas>=0.16.2->pylogit==1.0.1) (1.17.0)\n",
            "Building wheels for collected packages: pylogit\n",
            "  Building wheel for pylogit (pyproject.toml) ... \u001b[?25l\u001b[?25hdone\n",
            "  Created wheel for pylogit: filename=pylogit-1.0.1-py3-none-any.whl size=151628 sha256=8241c81858dac443039a79baf4b841e6b0172d9875f43ac4132aa8a9b27e0b6b\n",
            "  Stored in directory: /tmp/pip-ephem-wheel-cache-uzqmc3dg/wheels/17/29/c1/85bf27d968572196d48cd711094805d741b1f98c89f94db2b4\n",
            "Successfully built pylogit\n",
            "Installing collected packages: pylogit\n",
            "Successfully installed pylogit-1.0.1\n"
          ]
        }
      ]
    },
    {
      "cell_type": "code",
      "source": [
        "import pylogit as pl\n",
        "print(\"Pylogit is working correctly!\")\n"
      ],
      "metadata": {
        "colab": {
          "base_uri": "https://localhost:8080/"
        },
        "id": "mANPIFdKWPK9",
        "outputId": "67d85d3f-f406-45e5-8d84-6fc951497f42"
      },
      "execution_count": 1,
      "outputs": [
        {
          "output_type": "stream",
          "name": "stdout",
          "text": [
            "Pylogit is working correctly!\n"
          ]
        }
      ]
    },
    {
      "cell_type": "code",
      "source": [
        "# Load dataset\n",
        "import pandas as pd\n",
        "import pylogit as pl\n",
        "from collections import OrderedDict\n",
        "file_path = \"/content/behavioral factors.xlsx\"\n",
        "df = pd.read_excel(file_path)\n",
        "\n",
        "# Print actual column names\n",
        "print(\"Columns in df:\", df.columns.tolist())\n",
        "# Standardize column names (remove spaces and special characters)\n",
        "df.columns = df.columns.str.strip().str.replace(\" \", \"_\").str.replace(\"?\", \"\").str.lower()\n",
        "\n",
        "# Print updated column names\n",
        "print(\"Updated Columns in df:\", df.columns.tolist())\n",
        "# Rename the column to remove the extra underscore\n",
        "df.rename(columns={\"how_often_do_you_cross_during_a_red_light_\": \"how_often_do_you_cross_during_a_red_light\"}, inplace=True)\n",
        "\n",
        "# Print updated column names to confirm\n",
        "print(\"Final column names:\", df.columns.tolist())\n",
        "# Convert dataset into long format\n",
        "long_data = df.melt(id_vars=[\"have_you_ever_crossed_the_street_during_a_red_light\"],\n",
        "                     var_name=\"Factor\",\n",
        "                     value_name=\"Value\")\n",
        "\n",
        "# # Define Mixed Logit Model\n",
        "\n",
        "\n",
        "# model = pl.create_choice_model(\n",
        "#     data=long_data,\n",
        "#     alt_id_col=\"Factor\",\n",
        "#     obs_id_col=\"have_you_ever_crossed_the_street_during_a_red_light\",\n",
        "#     choice_col=\"Value\",\n",
        "#     specification=OrderedDict({\"how_often_do_you_cross_during_a_red_light\": \"random\"}),\n",
        "#     model_type=\"Mixed Logit\",\n",
        "# )\n",
        "\n",
        "# # Train the model\n",
        "# model.fit_mle()\n",
        "print(\"Type of long_data:\", type(long_data))\n",
        "print(\"First few rows of long_data:\")\n",
        "print(long_data.head())\n",
        "\n",
        "print(\"\\nColumns in long_data:\", long_data.columns.tolist())\n",
        "print(\"\\nMissing Values in long_data:\\n\", long_data.isnull().sum())\n",
        "# Convert target variable to numeric (required for Mixed Logit)\n",
        "long_data[\"have_you_ever_crossed_the_street_during_a_red_light\"] = long_data[\n",
        "    \"have_you_ever_crossed_the_street_during_a_red_light\"\n",
        "].map({\"Yes\": 1, \"No\": 0})\n",
        "\n",
        "# Verify the conversion\n",
        "print(long_data[\"have_you_ever_crossed_the_street_during_a_red_light\"].unique())\n",
        "# Convert \"Factor\" column to categorical codes\n",
        "long_data[\"Factor\"] = long_data[\"Factor\"].astype(\"category\").cat.codes\n",
        "\n",
        "# Verify the conversion\n",
        "print(\"Unique Factor values after encoding:\", long_data[\"Factor\"].unique())\n",
        "# Convert \"Value\" column to categorical codes\n",
        "long_data[\"Value\"] = long_data[\"Value\"].astype(\"category\").cat.codes\n",
        "\n",
        "# Verify the conversion\n",
        "print(\"Unique Value values after encoding:\", long_data[\"Value\"].unique())\n",
        "\n",
        "specification=OrderedDict({0: \"random\"})\n",
        "\n",
        "# import pylogit as pl\n",
        "# from collections import OrderedDict\n",
        "\n",
        "# # Get the actual column name from long_data[\"Factor\"].unique()\n",
        "# factor_name = long_data[\"Factor\"].unique()[0]  # This ensures the correct column name is used\n",
        "\n",
        "# # Define Mixed Logit Model\n",
        "# model = pl.create_choice_model(\n",
        "#     data=long_data,\n",
        "#     alt_id_col=\"Factor\",\n",
        "#     obs_id_col=\"have_you_ever_crossed_the_street_during_a_red_light\",\n",
        "#     choice_col=\"Value\",\n",
        "#     specification=OrderedDict({factor_name: \"random\"}),  # Correctly passing the column name\n",
        "#     model_type=\"Mixed Logit\",\n",
        "# )\n",
        "\n",
        "# # Train the model\n",
        "# model.fit_mle()\n"
      ],
      "metadata": {
        "colab": {
          "base_uri": "https://localhost:8080/"
        },
        "id": "wHF1oF8dXcZH",
        "outputId": "34d89e18-39dd-4244-e577-9f91e4aed926"
      },
      "execution_count": 22,
      "outputs": [
        {
          "output_type": "stream",
          "name": "stdout",
          "text": [
            "Columns in df: ['How do you react when you see someone running a red light?', 'How many hours a day do you usually drive?', 'How often do you cross during a red light ?', 'Have you ever crossed the street during a red light?']\n",
            "Updated Columns in df: ['how_do_you_react_when_you_see_someone_running_a_red_light', 'how_many_hours_a_day_do_you_usually_drive', 'how_often_do_you_cross_during_a_red_light_', 'have_you_ever_crossed_the_street_during_a_red_light']\n",
            "Final column names: ['how_do_you_react_when_you_see_someone_running_a_red_light', 'how_many_hours_a_day_do_you_usually_drive', 'how_often_do_you_cross_during_a_red_light', 'have_you_ever_crossed_the_street_during_a_red_light']\n",
            "Type of long_data: <class 'pandas.core.frame.DataFrame'>\n",
            "First few rows of long_data:\n",
            "  have_you_ever_crossed_the_street_during_a_red_light  \\\n",
            "0                                                 No    \n",
            "1                                                Yes    \n",
            "2                                                Yes    \n",
            "3                                                 No    \n",
            "4                                                Yes    \n",
            "\n",
            "                                              Factor            Value  \n",
            "0  how_do_you_react_when_you_see_someone_running_...  Feel frustrated  \n",
            "1  how_do_you_react_when_you_see_someone_running_...        Ignore it  \n",
            "2  how_do_you_react_when_you_see_someone_running_...        Ignore it  \n",
            "3  how_do_you_react_when_you_see_someone_running_...  Feel frustrated  \n",
            "4  how_do_you_react_when_you_see_someone_running_...        Ignore it  \n",
            "\n",
            "Columns in long_data: ['have_you_ever_crossed_the_street_during_a_red_light', 'Factor', 'Value']\n",
            "\n",
            "Missing Values in long_data:\n",
            " have_you_ever_crossed_the_street_during_a_red_light    0\n",
            "Factor                                                 0\n",
            "Value                                                  0\n",
            "dtype: int64\n",
            "[0 1]\n",
            "Unique Factor values after encoding: [0 1 2]\n",
            "Unique Value values after encoding: [ 2  3  9  7  0  4  5  1  8 10  6]\n"
          ]
        }
      ]
    },
    {
      "cell_type": "code",
      "source": [
        "# Print unique values in Factor column\n",
        "print(\"Unique values in Factor column:\", long_data[\"Factor\"].unique())\n",
        "# Convert Factor column back to original text labels\n",
        "long_data[\"Factor\"] = long_data[\"Factor\"].astype(\"category\")\n",
        "long_data[\"Factor\"] = long_data[\"Factor\"].cat.categories[long_data[\"Factor\"].values]\n",
        "\n",
        "# Verify the fix\n",
        "print(\"Fixed Factor column values:\", long_data[\"Factor\"].unique())\n",
        "print(long_data[\"Factor\"].dtype)  # This should show \"category\" or \"object\"\n"
      ],
      "metadata": {
        "colab": {
          "base_uri": "https://localhost:8080/"
        },
        "id": "_2XlSQUjZhhX",
        "outputId": "83edfb3e-0853-40b2-e945-409727579510"
      },
      "execution_count": 25,
      "outputs": [
        {
          "output_type": "stream",
          "name": "stdout",
          "text": [
            "Unique values in Factor column: [0 1 2]\n",
            "Fixed Factor column values: [0 1 2]\n",
            "int8\n"
          ]
        }
      ]
    },
    {
      "cell_type": "code",
      "source": [
        "print(long_data[\"Factor\"].dtype)  # This should show \"category\" or \"object\"\n"
      ],
      "metadata": {
        "colab": {
          "base_uri": "https://localhost:8080/"
        },
        "id": "dOOc_t4SZ78A",
        "outputId": "b11c1bb4-fe0b-422a-9a73-80d8582d3924"
      },
      "execution_count": 26,
      "outputs": [
        {
          "output_type": "stream",
          "name": "stdout",
          "text": [
            "int8\n"
          ]
        }
      ]
    },
    {
      "cell_type": "code",
      "source": [
        "print(\"Original column names before melting:\", df.columns.tolist())\n"
      ],
      "metadata": {
        "colab": {
          "base_uri": "https://localhost:8080/"
        },
        "id": "w53n098aaCCG",
        "outputId": "b50783e7-96d5-4b48-bd2c-b492d473071a"
      },
      "execution_count": 27,
      "outputs": [
        {
          "output_type": "stream",
          "name": "stdout",
          "text": [
            "Original column names before melting: ['how_do_you_react_when_you_see_someone_running_a_red_light', 'how_many_hours_a_day_do_you_usually_drive', 'how_often_do_you_cross_during_a_red_light', 'have_you_ever_crossed_the_street_during_a_red_light']\n"
          ]
        }
      ]
    },
    {
      "cell_type": "code",
      "source": [
        "# Define the mapping of numeric Factor values to original column names\n",
        "factor_mapping = {\n",
        "    0: \"how_do_you_react_when_you_see_someone_running_a_red_light\",\n",
        "    1: \"how_many_hours_a_day_do_you_usually_drive\",\n",
        "    2: \"how_often_do_you_cross_during_a_red_light\"\n",
        "}\n",
        "\n",
        "# Apply the mapping\n",
        "long_data[\"Factor\"] = long_data[\"Factor\"].map(factor_mapping)\n",
        "\n",
        "# Verify the fix\n",
        "print(\"Updated Factor column values:\", long_data[\"Factor\"].unique())\n"
      ],
      "metadata": {
        "colab": {
          "base_uri": "https://localhost:8080/"
        },
        "id": "VNWBWMYaaK15",
        "outputId": "84ee50ee-77a2-46c7-c09a-c190d8ddca30"
      },
      "execution_count": 28,
      "outputs": [
        {
          "output_type": "stream",
          "name": "stdout",
          "text": [
            "Updated Factor column values: ['how_do_you_react_when_you_see_someone_running_a_red_light'\n",
            " 'how_many_hours_a_day_do_you_usually_drive'\n",
            " 'how_often_do_you_cross_during_a_red_light']\n"
          ]
        }
      ]
    },
    {
      "cell_type": "code",
      "source": [
        "!pip install statsmodels scipy\n"
      ],
      "metadata": {
        "colab": {
          "base_uri": "https://localhost:8080/"
        },
        "id": "oh03itxra_AM",
        "outputId": "0971bc04-454b-4861-9739-52c8a3574233"
      },
      "execution_count": 32,
      "outputs": [
        {
          "output_type": "stream",
          "name": "stdout",
          "text": [
            "Requirement already satisfied: statsmodels in /usr/local/lib/python3.11/dist-packages (0.14.4)\n",
            "Requirement already satisfied: scipy in /usr/local/lib/python3.11/dist-packages (1.14.1)\n",
            "Requirement already satisfied: numpy<3,>=1.22.3 in /usr/local/lib/python3.11/dist-packages (from statsmodels) (2.0.2)\n",
            "Requirement already satisfied: pandas!=2.1.0,>=1.4 in /usr/local/lib/python3.11/dist-packages (from statsmodels) (2.2.2)\n",
            "Requirement already satisfied: patsy>=0.5.6 in /usr/local/lib/python3.11/dist-packages (from statsmodels) (1.0.1)\n",
            "Requirement already satisfied: packaging>=21.3 in /usr/local/lib/python3.11/dist-packages (from statsmodels) (24.2)\n",
            "Requirement already satisfied: python-dateutil>=2.8.2 in /usr/local/lib/python3.11/dist-packages (from pandas!=2.1.0,>=1.4->statsmodels) (2.8.2)\n",
            "Requirement already satisfied: pytz>=2020.1 in /usr/local/lib/python3.11/dist-packages (from pandas!=2.1.0,>=1.4->statsmodels) (2025.1)\n",
            "Requirement already satisfied: tzdata>=2022.7 in /usr/local/lib/python3.11/dist-packages (from pandas!=2.1.0,>=1.4->statsmodels) (2025.1)\n",
            "Requirement already satisfied: six>=1.5 in /usr/local/lib/python3.11/dist-packages (from python-dateutil>=2.8.2->pandas!=2.1.0,>=1.4->statsmodels) (1.17.0)\n"
          ]
        }
      ]
    },
    {
      "cell_type": "code",
      "source": [
        "import pandas as pd\n",
        "\n",
        "# Ensure Value is numeric\n",
        "long_data[\"Value\"] = long_data[\"Value\"].astype(\"category\").cat.codes\n",
        "\n",
        "# Ensure Factor is categorical\n",
        "long_data[\"Factor\"] = long_data[\"Factor\"].astype(\"category\")\n",
        "\n",
        "# Print unique values to verify the fix\n",
        "print(\"Unique Values in 'Factor':\", long_data[\"Factor\"].unique())\n",
        "print(\"Unique Values in 'Value':\", long_data[\"Value\"].unique())\n"
      ],
      "metadata": {
        "colab": {
          "base_uri": "https://localhost:8080/"
        },
        "id": "Rawdp0nobHhu",
        "outputId": "12381a83-fbb4-4274-d141-258398789b61"
      },
      "execution_count": 33,
      "outputs": [
        {
          "output_type": "stream",
          "name": "stdout",
          "text": [
            "Unique Values in 'Factor': ['how_do_you_react_when_you_see_someone_running..., 'how_many_hours_a_day_do_you_usually_drive', 'how_often_do_you_cross_during_a_red_light']\n",
            "Categories (3, object): ['how_do_you_react_when_you_see_someone_running..., 'how_many_hours_a_day_do_you_usually_drive',\n",
            "                         'how_often_do_you_cross_during_a_red_light']\n",
            "Unique Values in 'Value': [ 2  3  9  7  0  4  5  1  8 10  6]\n"
          ]
        }
      ]
    },
    {
      "cell_type": "code",
      "source": [
        "# Convert target variable (y) to numeric\n",
        "y = long_data[\"have_you_ever_crossed_the_street_during_a_red_light\"].astype(int)\n",
        "\n",
        "# Convert categorical 'Factor' into dummy variables (numerical encoding)\n",
        "X = pd.get_dummies(long_data[\"Factor\"], drop_first=True).astype(int)\n",
        "\n",
        "# Add a constant term for intercept\n",
        "X = sm.add_constant(X)\n",
        "\n",
        "# Verify data types\n",
        "print(\"X Data Types:\\n\", X.dtypes)\n",
        "print(\"\\nY Data Type:\", y.dtype)\n"
      ],
      "metadata": {
        "colab": {
          "base_uri": "https://localhost:8080/"
        },
        "id": "hqsv-IlqbXqz",
        "outputId": "8ad21fd2-2ec7-4b43-8bf1-5545323873ab"
      },
      "execution_count": 35,
      "outputs": [
        {
          "output_type": "stream",
          "name": "stdout",
          "text": [
            "X Data Types:\n",
            " const                                        float64\n",
            "how_many_hours_a_day_do_you_usually_drive      int64\n",
            "how_often_do_you_cross_during_a_red_light      int64\n",
            "dtype: object\n",
            "\n",
            "Y Data Type: int64\n"
          ]
        }
      ]
    },
    {
      "cell_type": "code",
      "source": [
        "# Fit the Mixed Logit Model\n",
        "model = sm.MNLogit(y, X)\n",
        "result = model.fit(method=\"bfgs\")  # Using BFGS optimization\n",
        "\n",
        "# Print model summary\n",
        "print(result.summary())\n"
      ],
      "metadata": {
        "colab": {
          "base_uri": "https://localhost:8080/"
        },
        "id": "5KWlXdsjbc2A",
        "outputId": "8c4b05aa-b580-4d7f-aa04-e7cfd0fe9333"
      },
      "execution_count": 36,
      "outputs": [
        {
          "output_type": "stream",
          "name": "stdout",
          "text": [
            "Optimization terminated successfully.\n",
            "         Current function value: 0.556775\n",
            "         Iterations: 13\n",
            "         Function evaluations: 14\n",
            "         Gradient evaluations: 14\n",
            "                                           MNLogit Regression Results                                          \n",
            "===============================================================================================================\n",
            "Dep. Variable:     have_you_ever_crossed_the_street_during_a_red_light   No. Observations:                 2400\n",
            "Model:                                                         MNLogit   Df Residuals:                     2397\n",
            "Method:                                                            MLE   Df Model:                            2\n",
            "Date:                                                 Mon, 24 Mar 2025   Pseudo R-squ.:               7.220e-11\n",
            "Time:                                                         09:13:39   Log-Likelihood:                -1336.3\n",
            "converged:                                                        True   LL-Null:                       -1336.3\n",
            "Covariance Type:                                             nonrobust   LLR p-value:                     1.000\n",
            "=========================================================================================================================\n",
            "have_you_ever_crossed_the_street_during_a_red_light=1       coef    std err          z      P>|z|      [0.025      0.975]\n",
            "-------------------------------------------------------------------------------------------------------------------------\n",
            "const                                                    -1.1255      0.082    -13.691      0.000      -1.287      -0.964\n",
            "how_many_hours_a_day_do_you_usually_drive              5.991e-06      0.116   5.15e-05      1.000      -0.228       0.228\n",
            "how_often_do_you_cross_during_a_red_light              5.991e-06      0.116   5.15e-05      1.000      -0.228       0.228\n",
            "=========================================================================================================================\n"
          ]
        }
      ]
    },
    {
      "cell_type": "code",
      "source": [
        "print(result.params)\n"
      ],
      "metadata": {
        "colab": {
          "base_uri": "https://localhost:8080/"
        },
        "id": "eyoXXsLmb6su",
        "outputId": "eb0040bc-cdfb-404a-c954-0f24e20453be"
      },
      "execution_count": 40,
      "outputs": [
        {
          "output_type": "stream",
          "name": "stdout",
          "text": [
            "                                                  0\n",
            "const                                     -1.125457\n",
            "how_many_hours_a_day_do_you_usually_drive  0.000006\n",
            "how_often_do_you_cross_during_a_red_light  0.000006\n"
          ]
        }
      ]
    },
    {
      "cell_type": "code",
      "source": [
        "import numpy as np\n",
        "import matplotlib.pyplot as plt\n",
        "\n",
        "# Extract model coefficients correctly\n",
        "const = result.params.loc[\"const\", 0]\n",
        "coef = result.params.loc[\"how_often_do_you_cross_during_a_red_light\", 0]\n",
        "\n",
        "# Generate values for the independent variable (e.g., how_often_do_you_cross_during_a_red_light)\n",
        "x_values = np.linspace(-2, 2, 100)  # Generate values between -2 and 2 (standardized data)\n",
        "\n",
        "# Compute probability using the logistic function\n",
        "probabilities = 1 / (1 + np.exp(-(const + coef * x_values)))\n",
        "\n",
        "# Plot the sensitivity curve\n",
        "plt.figure(figsize=(8, 5))\n",
        "plt.plot(x_values, probabilities, label=\"Predicted Probability\", color=\"b\")\n",
        "plt.xlabel(\"how_often_do_you_cross_during_a_red_light (Standardized)\")\n",
        "plt.ylabel(\"Probability of Red Light Violation\")\n",
        "plt.title(\"Sensitivity Curve for Red Light Violation\")\n",
        "plt.legend()\n",
        "plt.grid()\n",
        "plt.show()\n"
      ],
      "metadata": {
        "colab": {
          "base_uri": "https://localhost:8080/",
          "height": 487
        },
        "id": "ZaDQlSQTcCbz",
        "outputId": "0c1c3282-661e-49c2-89d1-6c43407e4788"
      },
      "execution_count": 41,
      "outputs": [
        {
          "output_type": "display_data",
          "data": {
            "text/plain": [
              "<Figure size 800x500 with 1 Axes>"
            ],
            "image/png": "[encoded data removed]"
          },
          "metadata": {}
        }
      ]
    }
  ]
}